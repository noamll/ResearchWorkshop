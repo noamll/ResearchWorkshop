{
 "cells": [
  {
   "cell_type": "code",
   "execution_count": null,
   "id": "a51091d6-0209-4d1f-a115-73561f91f22c",
   "metadata": {},
   "outputs": [],
   "source": [
    "#Splitting Data"
   ]
  },
  {
   "cell_type": "code",
   "execution_count": null,
   "id": "d32a5af4-7b98-442c-ab39-0e4b98d173fe",
   "metadata": {},
   "outputs": [],
   "source": [
    "#Feature Extraction"
   ]
  },
  {
   "cell_type": "code",
   "execution_count": null,
   "id": "d63e3e41-99bd-4bf2-af97-9fedf669d997",
   "metadata": {},
   "outputs": [],
   "source": [
    "#PCA"
   ]
  },
  {
   "cell_type": "code",
   "execution_count": null,
   "id": "7183d9fd-30a9-474d-a79a-7180fdda1b2f",
   "metadata": {},
   "outputs": [],
   "source": [
    "#SVM"
   ]
  }
 ],
 "metadata": {
  "kernelspec": {
   "display_name": "Python 3 (ipykernel)",
   "language": "python",
   "name": "python3"
  },
  "language_info": {
   "codemirror_mode": {
    "name": "ipython",
    "version": 3
   },
   "file_extension": ".py",
   "mimetype": "text/x-python",
   "name": "python",
   "nbconvert_exporter": "python",
   "pygments_lexer": "ipython3",
   "version": "3.9.7"
  }
 },
 "nbformat": 4,
 "nbformat_minor": 5
}
